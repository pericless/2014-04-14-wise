{
 "metadata": {
  "name": "04-testing_instructor_notebook"
 },
 "nbformat": 3,
 "nbformat_minor": 0,
 "worksheets": [
  {
   "cells": [
    {
     "cell_type": "code",
     "collapsed": false,
     "input": [
      "import plot_temperature"
     ],
     "language": "python",
     "metadata": {},
     "outputs": [],
     "prompt_number": 1
    },
    {
     "cell_type": "code",
     "collapsed": false,
     "input": [
      "plot_temperature.__file__"
     ],
     "language": "python",
     "metadata": {},
     "outputs": [
      {
       "output_type": "pyout",
       "prompt_number": 28,
       "text": [
        "'plot_temperature.pyc'"
       ]
      }
     ],
     "prompt_number": 28
    },
    {
     "cell_type": "code",
     "collapsed": false,
     "input": [
      "cat mosquito_data_A1.csv"
     ],
     "language": "python",
     "metadata": {},
     "outputs": [
      {
       "output_type": "stream",
       "stream": "stdout",
       "text": [
        "year,temperature,rainfall,mosquitos\r\n",
        "2001,87,222,198\r\n",
        "2002,72,103,105\r\n",
        "2003,77,176,166\r\n",
        "2004,89,236,210\r\n",
        "2005,88,283,242\r\n",
        "2006,89,151,147\r\n",
        "2007,71,121,117\r\n",
        "2008,88,267,232\r\n",
        "2009,85,211,191\r\n",
        "2010,75,101,106\r\n"
       ]
      }
     ],
     "prompt_number": 2
    },
    {
     "cell_type": "code",
     "collapsed": false,
     "input": [
      "def test_output_read_csv_file():\n",
      "    '''\n",
      "    Test that read_csv_file gives the expected output\n",
      "    '''\n",
      "    year, temperature, rainfall, mosquitos = plot_temperature.read_csv_file('mosquito_data_A1.csv')\n",
      "    year_key = range(2000, 2011, 1)\n",
      "    for yr_guess, yr_solution in zip(year, year_key):\n",
      "        assert yr_guess == yr_solution, 'year {} doesn\\'t match key {}'.format(yr_guess, yr_solution)"
     ],
     "language": "python",
     "metadata": {},
     "outputs": [],
     "prompt_number": 13
    },
    {
     "cell_type": "code",
     "collapsed": false,
     "input": [
      "test_output_read_csv_file()"
     ],
     "language": "python",
     "metadata": {},
     "outputs": [
      {
       "ename": "AssertionError",
       "evalue": "year 2001.0 doesn't match key 2000",
       "output_type": "pyerr",
       "traceback": [
        "\u001b[0;31m---------------------------------------------------------------------------\u001b[0m\n\u001b[0;31mAssertionError\u001b[0m                            Traceback (most recent call last)",
        "\u001b[0;32m<ipython-input-14-20cb778f98c2>\u001b[0m in \u001b[0;36m<module>\u001b[0;34m()\u001b[0m\n\u001b[0;32m----> 1\u001b[0;31m \u001b[0mtest_output_read_csv_file\u001b[0m\u001b[0;34m(\u001b[0m\u001b[0;34m)\u001b[0m\u001b[0;34m\u001b[0m\u001b[0m\n\u001b[0m",
        "\u001b[0;32m<ipython-input-13-aaa943efb6af>\u001b[0m in \u001b[0;36mtest_output_read_csv_file\u001b[0;34m()\u001b[0m\n\u001b[1;32m      6\u001b[0m     \u001b[0myear_key\u001b[0m \u001b[0;34m=\u001b[0m \u001b[0mrange\u001b[0m\u001b[0;34m(\u001b[0m\u001b[0;36m2000\u001b[0m\u001b[0;34m,\u001b[0m \u001b[0;36m2011\u001b[0m\u001b[0;34m,\u001b[0m \u001b[0;36m1\u001b[0m\u001b[0;34m)\u001b[0m\u001b[0;34m\u001b[0m\u001b[0m\n\u001b[1;32m      7\u001b[0m     \u001b[0;32mfor\u001b[0m \u001b[0myr_guess\u001b[0m\u001b[0;34m,\u001b[0m \u001b[0myr_solution\u001b[0m \u001b[0;32min\u001b[0m \u001b[0mzip\u001b[0m\u001b[0;34m(\u001b[0m\u001b[0myear\u001b[0m\u001b[0;34m,\u001b[0m \u001b[0myear_key\u001b[0m\u001b[0;34m)\u001b[0m\u001b[0;34m:\u001b[0m\u001b[0;34m\u001b[0m\u001b[0m\n\u001b[0;32m----> 8\u001b[0;31m         \u001b[0;32massert\u001b[0m \u001b[0myr_guess\u001b[0m \u001b[0;34m==\u001b[0m \u001b[0myr_solution\u001b[0m\u001b[0;34m,\u001b[0m \u001b[0;34m'year {} doesn\\'t match key {}'\u001b[0m\u001b[0;34m.\u001b[0m\u001b[0mformat\u001b[0m\u001b[0;34m(\u001b[0m\u001b[0myr_guess\u001b[0m\u001b[0;34m,\u001b[0m \u001b[0myr_solution\u001b[0m\u001b[0;34m)\u001b[0m\u001b[0;34m\u001b[0m\u001b[0m\n\u001b[0m",
        "\u001b[0;31mAssertionError\u001b[0m: year 2001.0 doesn't match key 2000"
       ]
      }
     ],
     "prompt_number": 14
    },
    {
     "cell_type": "code",
     "collapsed": false,
     "input": [
      "year_key = range(2001, 2011, 1)\n",
      "print year_key"
     ],
     "language": "python",
     "metadata": {},
     "outputs": [
      {
       "output_type": "stream",
       "stream": "stdout",
       "text": [
        "[2001, 2002, 2003, 2004, 2005, 2006, 2007, 2008, 2009, 2010]\n"
       ]
      }
     ],
     "prompt_number": 5
    },
    {
     "cell_type": "code",
     "collapsed": false,
     "input": [
      "def test_output_read_csv_file():\n",
      "    '''\n",
      "    Test that read_csv_file gives the expected output\n",
      "    '''\n",
      "    year, temperature, rainfall, mosquitos = plot_temperature.read_csv_file('mosquito_data_A1.csv')\n",
      "    year_key = np.arange(2001, 2011, 1)\n",
      "    assert (year == year_key).all(), 'year doesn\\'t match key'\n",
      "    "
     ],
     "language": "python",
     "metadata": {},
     "outputs": [],
     "prompt_number": 25
    },
    {
     "cell_type": "code",
     "collapsed": false,
     "input": [
      "test_output_read_csv_file()"
     ],
     "language": "python",
     "metadata": {},
     "outputs": [],
     "prompt_number": 26
    },
    {
     "cell_type": "markdown",
     "metadata": {},
     "source": [
      "##Challenge:\n",
      "Write a test for convert_fahrenheit_to_celsius"
     ]
    },
    {
     "cell_type": "code",
     "collapsed": false,
     "input": [
      "def test_convert_fahrenheit_to_celsius():\n",
      "    temp_c = plot_temperature.convert_fahrenheit_to_celsius(32)\n",
      "    assert temp_c == 0, '32F != 0C'"
     ],
     "language": "python",
     "metadata": {},
     "outputs": [],
     "prompt_number": 27
    },
    {
     "cell_type": "code",
     "collapsed": false,
     "input": [
      "def read_csv_file(filename):\n",
      "    '''\n",
      "    This code will read in a CSV file of year, temp, rainfall, mosquitos\n",
      "    '''\n",
      "    assert type(filename) is str, 'filename must be a string'\n",
      "    year, temperature, rainfall, mosquitos = np.genfromtxt(filename, unpack = True, skiprows = 1, delimiter = ',')\n",
      "    return year, temperature, rainfall, mosquitos"
     ],
     "language": "python",
     "metadata": {},
     "outputs": [],
     "prompt_number": 29
    },
    {
     "cell_type": "code",
     "collapsed": false,
     "input": [
      "read_csv_file(4)"
     ],
     "language": "python",
     "metadata": {},
     "outputs": [
      {
       "ename": "AssertionError",
       "evalue": "filename must be a string",
       "output_type": "pyerr",
       "traceback": [
        "\u001b[0;31m---------------------------------------------------------------------------\u001b[0m\n\u001b[0;31mAssertionError\u001b[0m                            Traceback (most recent call last)",
        "\u001b[0;32m<ipython-input-30-946ff756682b>\u001b[0m in \u001b[0;36m<module>\u001b[0;34m()\u001b[0m\n\u001b[0;32m----> 1\u001b[0;31m \u001b[0mread_csv_file\u001b[0m\u001b[0;34m(\u001b[0m\u001b[0;36m4\u001b[0m\u001b[0;34m)\u001b[0m\u001b[0;34m\u001b[0m\u001b[0m\n\u001b[0m",
        "\u001b[0;32m<ipython-input-29-624359a0775d>\u001b[0m in \u001b[0;36mread_csv_file\u001b[0;34m(filename)\u001b[0m\n\u001b[1;32m      3\u001b[0m     \u001b[0mThis\u001b[0m \u001b[0mcode\u001b[0m \u001b[0mwill\u001b[0m \u001b[0mread\u001b[0m \u001b[0;32min\u001b[0m \u001b[0ma\u001b[0m \u001b[0mCSV\u001b[0m \u001b[0mfile\u001b[0m \u001b[0mof\u001b[0m \u001b[0myear\u001b[0m\u001b[0;34m,\u001b[0m \u001b[0mtemp\u001b[0m\u001b[0;34m,\u001b[0m \u001b[0mrainfall\u001b[0m\u001b[0;34m,\u001b[0m \u001b[0mmosquitos\u001b[0m\u001b[0;34m\u001b[0m\u001b[0m\n\u001b[1;32m      4\u001b[0m     '''\n\u001b[0;32m----> 5\u001b[0;31m     \u001b[0;32massert\u001b[0m \u001b[0mtype\u001b[0m\u001b[0;34m(\u001b[0m\u001b[0mfilename\u001b[0m\u001b[0;34m)\u001b[0m \u001b[0;32mis\u001b[0m \u001b[0mstr\u001b[0m\u001b[0;34m,\u001b[0m \u001b[0;34m'filename must be a string'\u001b[0m\u001b[0;34m\u001b[0m\u001b[0m\n\u001b[0m\u001b[1;32m      6\u001b[0m     \u001b[0myear\u001b[0m\u001b[0;34m,\u001b[0m \u001b[0mtemperature\u001b[0m\u001b[0;34m,\u001b[0m \u001b[0mrainfall\u001b[0m\u001b[0;34m,\u001b[0m \u001b[0mmosquitos\u001b[0m \u001b[0;34m=\u001b[0m \u001b[0mnp\u001b[0m\u001b[0;34m.\u001b[0m\u001b[0mgenfromtxt\u001b[0m\u001b[0;34m(\u001b[0m\u001b[0mfilename\u001b[0m\u001b[0;34m,\u001b[0m \u001b[0munpack\u001b[0m \u001b[0;34m=\u001b[0m \u001b[0mTrue\u001b[0m\u001b[0;34m,\u001b[0m \u001b[0mskiprows\u001b[0m \u001b[0;34m=\u001b[0m \u001b[0;36m1\u001b[0m\u001b[0;34m,\u001b[0m \u001b[0mdelimiter\u001b[0m \u001b[0;34m=\u001b[0m \u001b[0;34m','\u001b[0m\u001b[0;34m)\u001b[0m\u001b[0;34m\u001b[0m\u001b[0m\n\u001b[1;32m      7\u001b[0m     \u001b[0;32mreturn\u001b[0m \u001b[0myear\u001b[0m\u001b[0;34m,\u001b[0m \u001b[0mtemperature\u001b[0m\u001b[0;34m,\u001b[0m \u001b[0mrainfall\u001b[0m\u001b[0;34m,\u001b[0m \u001b[0mmosquitos\u001b[0m\u001b[0;34m\u001b[0m\u001b[0m\n",
        "\u001b[0;31mAssertionError\u001b[0m: filename must be a string"
       ]
      }
     ],
     "prompt_number": 30
    },
    {
     "cell_type": "code",
     "collapsed": false,
     "input": [
      "def read_csv_file(filename):\n",
      "    '''\n",
      "    This code will read in a CSV file of year, temp, rainfall, mosquitos\n",
      "    '''\n",
      "    assert isinstance(filename, str), 'filename must be a string'\n",
      "    year, temperature, rainfall, mosquitos = np.genfromtxt(filename, unpack = True, skiprows = 1, delimiter = ',')\n",
      "    return year, temperature, rainfall, mosquitos"
     ],
     "language": "python",
     "metadata": {},
     "outputs": [],
     "prompt_number": 32
    },
    {
     "cell_type": "code",
     "collapsed": false,
     "input": [
      "read_csv_file('mosquito_data_A1.csv')"
     ],
     "language": "python",
     "metadata": {},
     "outputs": [
      {
       "output_type": "pyout",
       "prompt_number": 34,
       "text": [
        "(array([ 2001.,  2002.,  2003.,  2004.,  2005.,  2006.,  2007.,  2008.,\n",
        "        2009.,  2010.]),\n",
        " array([ 87.,  72.,  77.,  89.,  88.,  89.,  71.,  88.,  85.,  75.]),\n",
        " array([ 222.,  103.,  176.,  236.,  283.,  151.,  121.,  267.,  211.,  101.]),\n",
        " array([ 198.,  105.,  166.,  210.,  242.,  147.,  117.,  232.,  191.,  106.]))"
       ]
      }
     ],
     "prompt_number": 34
    },
    {
     "cell_type": "markdown",
     "metadata": {},
     "source": [
      "##Challenge\n",
      "Write a test on input for convert_fahrenheit_to_celsius"
     ]
    },
    {
     "cell_type": "code",
     "collapsed": false,
     "input": [
      "def convert_fahrenheit_to_celsius(temp_in_f):\n",
      "    '''\n",
      "    This code will convert an array of temperatures from fahrenheit to celsius\n",
      "    '''\n",
      "    assert (type(temp_in_f) is float) or (type(temp_in_f) is int) or (isinstance(temp_in_f, np.ndarray)), 'temp must be float or int'\n",
      "    temp_in_c = (temp_in_f - 37) * 5 /9.0\n",
      "    return temp_in_c"
     ],
     "language": "python",
     "metadata": {},
     "outputs": [],
     "prompt_number": 54
    },
    {
     "cell_type": "code",
     "collapsed": false,
     "input": [
      "print convert_fahrenheit_to_celsius(3)\n",
      "print convert_fahrenheit_to_celsius(6.0)\n",
      "print convert_fahrenheit_to_celsius(np.arange(10))"
     ],
     "language": "python",
     "metadata": {},
     "outputs": [
      {
       "output_type": "stream",
       "stream": "stdout",
       "text": [
        "-18.8888888889\n",
        "-17.2222222222\n",
        "[-20.55555556 -20.         -19.44444444 -18.88888889 -18.33333333\n",
        " -17.77777778 -17.22222222 -16.66666667 -16.11111111 -15.55555556]\n"
       ]
      }
     ],
     "prompt_number": 55
    },
    {
     "cell_type": "code",
     "collapsed": false,
     "input": [
      "c = np.array([1, 2, 3])\n",
      "print type(c)"
     ],
     "language": "python",
     "metadata": {},
     "outputs": [
      {
       "output_type": "stream",
       "stream": "stdout",
       "text": [
        "<type 'numpy.ndarray'>\n"
       ]
      }
     ],
     "prompt_number": 56
    },
    {
     "cell_type": "code",
     "collapsed": false,
     "input": [
      "plot_temperature.convert_fahrenheit_to_celsius(212)"
     ],
     "language": "python",
     "metadata": {},
     "outputs": [
      {
       "output_type": "pyout",
       "prompt_number": 37,
       "text": [
        "100.0"
       ]
      }
     ],
     "prompt_number": 37
    },
    {
     "cell_type": "code",
     "collapsed": false,
     "input": [
      "convert_fahrenheit_to_celsius(212)"
     ],
     "language": "python",
     "metadata": {},
     "outputs": [
      {
       "output_type": "pyout",
       "prompt_number": 38,
       "text": [
        "97.22222222222223"
       ]
      }
     ],
     "prompt_number": 38
    },
    {
     "cell_type": "code",
     "collapsed": false,
     "input": [],
     "language": "python",
     "metadata": {},
     "outputs": []
    }
   ],
   "metadata": {}
  }
 ]
}